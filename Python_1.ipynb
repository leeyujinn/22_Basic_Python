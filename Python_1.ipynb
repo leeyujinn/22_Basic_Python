{
  "nbformat": 4,
  "nbformat_minor": 0,
  "metadata": {
    "colab": {
      "provenance": [],
      "authorship_tag": "ABX9TyNHR0EK9piBRi6B8QXmV6pv",
      "include_colab_link": true
    },
    "kernelspec": {
      "name": "python3",
      "display_name": "Python 3"
    },
    "language_info": {
      "name": "python"
    }
  },
  "cells": [
    {
      "cell_type": "markdown",
      "metadata": {
        "id": "view-in-github",
        "colab_type": "text"
      },
      "source": [
        "<a href=\"https://colab.research.google.com/github/leeyujinn/22_Basic_Python/blob/main/Python_1.ipynb\" target=\"_parent\"><img src=\"https://colab.research.google.com/assets/colab-badge.svg\" alt=\"Open In Colab\"/></a>"
      ]
    },
    {
      "cell_type": "code",
      "execution_count": 1,
      "metadata": {
        "colab": {
          "base_uri": "https://localhost:8080/"
        },
        "id": "QDSMGocsPyIN",
        "outputId": "2722e66d-f4c6-4168-b5e5-107ff1553b46"
      },
      "outputs": [
        {
          "output_type": "stream",
          "name": "stdout",
          "text": [
            "Hello World\n"
          ]
        }
      ],
      "source": [
        "print(\"Hello World\")"
      ]
    },
    {
      "cell_type": "code",
      "source": [
        "print('Hello World')"
      ],
      "metadata": {
        "colab": {
          "base_uri": "https://localhost:8080/"
        },
        "id": "K6BRiHQXQk06",
        "outputId": "d71221d0-d818-4dee-c63e-1ca4bb777e85"
      },
      "execution_count": 2,
      "outputs": [
        {
          "output_type": "stream",
          "name": "stdout",
          "text": [
            "Hello World\n"
          ]
        }
      ]
    },
    {
      "cell_type": "code",
      "source": [
        "print(1+2)"
      ],
      "metadata": {
        "colab": {
          "base_uri": "https://localhost:8080/"
        },
        "id": "9W5qfCGnQsKp",
        "outputId": "c291da31-bcca-433f-a5b9-44e5cbeac84f"
      },
      "execution_count": 3,
      "outputs": [
        {
          "output_type": "stream",
          "name": "stdout",
          "text": [
            "3\n"
          ]
        }
      ]
    },
    {
      "cell_type": "code",
      "source": [
        "print(2*3)"
      ],
      "metadata": {
        "colab": {
          "base_uri": "https://localhost:8080/"
        },
        "id": "-on5EAoaQzCK",
        "outputId": "6da5988f-72da-4ced-86af-cb391aa31304"
      },
      "execution_count": 4,
      "outputs": [
        {
          "output_type": "stream",
          "name": "stdout",
          "text": [
            "6\n"
          ]
        }
      ]
    },
    {
      "cell_type": "code",
      "source": [
        "print(True)"
      ],
      "metadata": {
        "colab": {
          "base_uri": "https://localhost:8080/"
        },
        "id": "GWvvS_sRSNtu",
        "outputId": "80a241a5-b329-4801-d066-1aaec626b17d"
      },
      "execution_count": 5,
      "outputs": [
        {
          "output_type": "stream",
          "name": "stdout",
          "text": [
            "True\n"
          ]
        }
      ]
    },
    {
      "cell_type": "code",
      "source": [
        "print(False)"
      ],
      "metadata": {
        "colab": {
          "base_uri": "https://localhost:8080/"
        },
        "id": "XTgHdZOYSUtT",
        "outputId": "501dd0aa-c073-4248-aafd-6f73eb97d65d"
      },
      "execution_count": 6,
      "outputs": [
        {
          "output_type": "stream",
          "name": "stdout",
          "text": [
            "False\n"
          ]
        }
      ]
    },
    {
      "cell_type": "code",
      "source": [
        "a = 3; b = 4; c = a + b; print(c); print(a); print(b)"
      ],
      "metadata": {
        "colab": {
          "base_uri": "https://localhost:8080/"
        },
        "id": "vSd4D6dISYT1",
        "outputId": "bfd1018b-00f3-45aa-d1ce-a68f6ec6da48"
      },
      "execution_count": 9,
      "outputs": [
        {
          "output_type": "stream",
          "name": "stdout",
          "text": [
            "7\n",
            "3\n",
            "4\n"
          ]
        }
      ]
    },
    {
      "cell_type": "code",
      "source": [
        "a = \"안녕하세요.\";\n",
        "b = \"반갑습니다.\";\n",
        "c = a + b;\n",
        "print(c)"
      ],
      "metadata": {
        "colab": {
          "base_uri": "https://localhost:8080/"
        },
        "id": "u0OxBRcxTEMa",
        "outputId": "83d77bd8-77e7-4d76-d8a7-d993bdab3a3c"
      },
      "execution_count": 10,
      "outputs": [
        {
          "output_type": "stream",
          "name": "stdout",
          "text": [
            "안녕하세요.반갑습니다.\n"
          ]
        }
      ]
    },
    {
      "cell_type": "code",
      "source": [
        "a = \"안녕하세요.\";\n",
        "b = a * 10;\n",
        "print(b)"
      ],
      "metadata": {
        "colab": {
          "base_uri": "https://localhost:8080/"
        },
        "id": "oK7TeFfFTZ6K",
        "outputId": "04822b2a-4d38-49c4-eff0-4d7d0f7b307c"
      },
      "execution_count": 11,
      "outputs": [
        {
          "output_type": "stream",
          "name": "stdout",
          "text": [
            "안녕하세요.안녕하세요.안녕하세요.안녕하세요.안녕하세요.안녕하세요.안녕하세요.안녕하세요.안녕하세요.안녕하세요.\n"
          ]
        }
      ]
    },
    {
      "cell_type": "code",
      "source": [
        "print(\"###############\")\n",
        "print(\"#\" * 15)"
      ],
      "metadata": {
        "colab": {
          "base_uri": "https://localhost:8080/"
        },
        "id": "Q1YBWsK8Tp-S",
        "outputId": "7171ef56-8c79-4624-e7a5-83389b3885d6"
      },
      "execution_count": 14,
      "outputs": [
        {
          "output_type": "stream",
          "name": "stdout",
          "text": [
            "###############\n",
            "###############\n"
          ]
        }
      ]
    },
    {
      "cell_type": "markdown",
      "source": [
        "아버지와 어머니 그리고 삼촌에게 감사한마음을 전하고 싶습니다.\n",
        "아버지에게는 10만원, 어머니에게는 15만원, 삼촌에게는 \"감사합니다.\"\n",
        "변수 : _Father, _Mother, _Uncle"
      ],
      "metadata": {
        "id": "_gV96pM7UJiZ"
      }
    },
    {
      "cell_type": "code",
      "source": [
        "_Father = \"100,000\"\n",
        "_Mother = \"150,000\"\n",
        "_Uncle = \"감사합니다.\"\n",
        "print(\"아버지=\", _Father,\"원\")\n",
        "print(\"어머니=\", _Mother,\"원\")\n",
        "print(\"삼촌=\", _Uncle)"
      ],
      "metadata": {
        "colab": {
          "base_uri": "https://localhost:8080/"
        },
        "id": "2E9erNIyUqO4",
        "outputId": "eebdc800-398c-49eb-8f02-e0de8ea74166"
      },
      "execution_count": 17,
      "outputs": [
        {
          "output_type": "stream",
          "name": "stdout",
          "text": [
            "아버지= 100,000 원\n",
            "어머니= 150,000 원\n",
            "삼촌= 감사합니다.\n"
          ]
        }
      ]
    },
    {
      "cell_type": "markdown",
      "source": [
        "변수의 규칙 : 문자 또는 _로 시작(Father, father, _father), 문자, 숫자, _구성\n",
        "(Father69, father55,father_56), 공백 절대안된다.안쓰는 것이 좋다. 특수문자 절대안된다."
      ],
      "metadata": {
        "id": "TRhHr4mrWMA4"
      }
    },
    {
      "cell_type": "markdown",
      "source": [
        "FATHER, father, MOTHER, mother, _Father, _father, Keyword (True, False, for, while, if, continue, break, class....)"
      ],
      "metadata": {
        "id": "sdOzNDi2W6Ty"
      }
    },
    {
      "cell_type": "markdown",
      "source": [
        "숫자자료형 = 숫자, 문자자료형 = 모든 문자들.."
      ],
      "metadata": {
        "id": "kzRqPwA3XZre"
      }
    },
    {
      "cell_type": "code",
      "source": [
        "a = 2\n",
        "b = \"2\"\n",
        "c = a + int(b)\n",
        "print(c)"
      ],
      "metadata": {
        "colab": {
          "base_uri": "https://localhost:8080/"
        },
        "id": "PSQZakE6ZFP2",
        "outputId": "4203f4cf-9c52-4cf9-d1db-3d71f0d95e64"
      },
      "execution_count": 20,
      "outputs": [
        {
          "output_type": "stream",
          "name": "stdout",
          "text": [
            "4\n"
          ]
        }
      ]
    },
    {
      "cell_type": "markdown",
      "source": [
        "형변환 : 정수형을 변환할때 int(), 실수형으로 변환하고자 할때 float(), 문자자료형으로 변환하고자할때 str(), int(float(\"2.5\"))"
      ],
      "metadata": {
        "id": "t0Q1E243Zm5k"
      }
    },
    {
      "cell_type": "markdown",
      "source": [
        "산술연산자 : + 더하기(print(4+3), - 빼기(print(2-1), * 곱하기(print(5*4), / 나누기(print(4/2), % 나머지 print(5%2), // 몫 print(6 // 2), ** 거듭제곱 print(4**2)"
      ],
      "metadata": {
        "id": "dB1JhzW6Z5tP"
      }
    }
  ]
}